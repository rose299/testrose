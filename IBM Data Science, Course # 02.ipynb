{
 "cells": [
  {
   "cell_type": "markdown",
   "id": "e4e9c862",
   "metadata": {},
   "source": [
    "# \"My Jupyter Notebook on IBM Watson Studio\""
   ]
  },
  {
   "cell_type": "markdown",
   "id": "9ca7d77b",
   "metadata": {},
   "source": [
    "**ZESMIN NAHAR**\n",
    "I am a digital marketer and would like to be Data Engineer."
   ]
  },
  {
   "cell_type": "markdown",
   "id": "13fe358d",
   "metadata": {},
   "source": [
    "*I am interested in Data Science because i want to swich my carreer as a data scientist as it is most demadable profession.*"
   ]
  },
  {
   "cell_type": "markdown",
   "id": "ee3fc693",
   "metadata": {},
   "source": [
    "### Variable Assigning"
   ]
  },
  {
   "cell_type": "code",
   "execution_count": 2,
   "id": "409bd36e",
   "metadata": {},
   "outputs": [
    {
     "name": "stdout",
     "output_type": "stream",
     "text": [
      "5\n"
     ]
    }
   ],
   "source": [
    "x = 2\n",
    "y = 3\n",
    "print(x+y)"
   ]
  },
  {
   "cell_type": "markdown",
   "id": "50024b7c",
   "metadata": {},
   "source": [
    "1.Chicken Curry Recipe:\n",
    "   - One chicken\n",
    "   - Two potato\n",
    "   - Seven Onion\n",
    "   - Eleven Green Chilli\n",
    "\n",
    "1. 456\n",
    "2. 457\n",
    "3. 458\n",
    "\n",
    "\n",
    " AGE      | NAME     | GENDER   \n",
    "  ------- | ---------| ------    \n",
    "  35      | John     | male \n",
    "  38      | Dohn     | male\n",
    "  45      | Jolly    | female\n",
    "\n",
    "<http://www.ibm.com>\n"
   ]
  }
 ],
 "metadata": {
  "kernelspec": {
   "display_name": "Python 3 (ipykernel)",
   "language": "python",
   "name": "python3"
  },
  "language_info": {
   "codemirror_mode": {
    "name": "ipython",
    "version": 3
   },
   "file_extension": ".py",
   "mimetype": "text/x-python",
   "name": "python",
   "nbconvert_exporter": "python",
   "pygments_lexer": "ipython3",
   "version": "3.9.12"
  }
 },
 "nbformat": 4,
 "nbformat_minor": 5
}
